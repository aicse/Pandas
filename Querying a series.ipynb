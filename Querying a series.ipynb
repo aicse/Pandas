{
 "cells": [
  {
   "cell_type": "code",
   "execution_count": 1,
   "id": "52b62e3c",
   "metadata": {},
   "outputs": [],
   "source": [
    "import pandas as pd"
   ]
  },
  {
   "cell_type": "code",
   "execution_count": 4,
   "id": "4d7888cb",
   "metadata": {},
   "outputs": [],
   "source": [
    "s = pd.Series([x for x in range (1,11)])"
   ]
  },
  {
   "cell_type": "code",
   "execution_count": 5,
   "id": "1003c66d",
   "metadata": {},
   "outputs": [
    {
     "data": {
      "text/plain": [
       "0     1\n",
       "1     2\n",
       "2     3\n",
       "3     4\n",
       "4     5\n",
       "5     6\n",
       "6     7\n",
       "7     8\n",
       "8     9\n",
       "9    10\n",
       "dtype: int64"
      ]
     },
     "execution_count": 5,
     "metadata": {},
     "output_type": "execute_result"
    }
   ],
   "source": [
    "s"
   ]
  },
  {
   "cell_type": "code",
   "execution_count": 6,
   "id": "f4383667",
   "metadata": {},
   "outputs": [
    {
     "data": {
      "text/plain": [
       "1"
      ]
     },
     "execution_count": 6,
     "metadata": {},
     "output_type": "execute_result"
    }
   ],
   "source": [
    "s.iloc[0]"
   ]
  },
  {
   "cell_type": "code",
   "execution_count": 7,
   "id": "0a7657cf",
   "metadata": {},
   "outputs": [
    {
     "data": {
      "text/plain": [
       "6"
      ]
     },
     "execution_count": 7,
     "metadata": {},
     "output_type": "execute_result"
    }
   ],
   "source": [
    "s.iloc[5]"
   ]
  },
  {
   "cell_type": "code",
   "execution_count": 8,
   "id": "a2642405",
   "metadata": {},
   "outputs": [
    {
     "data": {
      "text/plain": [
       "8"
      ]
     },
     "execution_count": 8,
     "metadata": {},
     "output_type": "execute_result"
    }
   ],
   "source": [
    "s.iloc[7]"
   ]
  },
  {
   "cell_type": "code",
   "execution_count": 10,
   "id": "1e6aefe3",
   "metadata": {},
   "outputs": [
    {
     "data": {
      "text/plain": [
       "1"
      ]
     },
     "execution_count": 10,
     "metadata": {},
     "output_type": "execute_result"
    }
   ],
   "source": [
    "s.iat[0]"
   ]
  },
  {
   "cell_type": "code",
   "execution_count": 11,
   "id": "39ef0695",
   "metadata": {},
   "outputs": [
    {
     "data": {
      "text/plain": [
       "5"
      ]
     },
     "execution_count": 11,
     "metadata": {},
     "output_type": "execute_result"
    }
   ],
   "source": [
    "s.iat[4]"
   ]
  },
  {
   "cell_type": "code",
   "execution_count": 19,
   "id": "a9140c05",
   "metadata": {},
   "outputs": [
    {
     "data": {
      "text/plain": [
       "0     1\n",
       "1     2\n",
       "2     9\n",
       "3     4\n",
       "4    25\n",
       "5     6\n",
       "6    49\n",
       "7     8\n",
       "8    81\n",
       "9    10\n",
       "dtype: int64"
      ]
     },
     "execution_count": 19,
     "metadata": {},
     "output_type": "execute_result"
    }
   ],
   "source": [
    "s.where(s%2==0,s**2)"
   ]
  },
  {
   "cell_type": "code",
   "execution_count": 24,
   "id": "a47c3cd9",
   "metadata": {},
   "outputs": [
    {
     "data": {
      "text/plain": [
       "1     2.0\n",
       "3     4.0\n",
       "5     6.0\n",
       "7     8.0\n",
       "9    10.0\n",
       "dtype: float64"
      ]
     },
     "execution_count": 24,
     "metadata": {},
     "output_type": "execute_result"
    }
   ],
   "source": [
    "s.dropna()\n"
   ]
  },
  {
   "cell_type": "code",
   "execution_count": 20,
   "id": "35f27219",
   "metadata": {},
   "outputs": [
    {
     "data": {
      "text/plain": [
       "0     NaN\n",
       "1     2.0\n",
       "2     NaN\n",
       "3     4.0\n",
       "4     NaN\n",
       "5     6.0\n",
       "6     NaN\n",
       "7     8.0\n",
       "8     NaN\n",
       "9    10.0\n",
       "dtype: float64"
      ]
     },
     "execution_count": 20,
     "metadata": {},
     "output_type": "execute_result"
    }
   ],
   "source": [
    "s.where(s%2==0)"
   ]
  },
  {
   "cell_type": "code",
   "execution_count": 21,
   "id": "4a10323b",
   "metadata": {},
   "outputs": [],
   "source": [
    "s.where(s%2==0,inplace=True)"
   ]
  },
  {
   "cell_type": "code",
   "execution_count": 23,
   "id": "eda469ba",
   "metadata": {},
   "outputs": [
    {
     "data": {
      "text/plain": [
       "1     2.0\n",
       "3     4.0\n",
       "5     6.0\n",
       "7     8.0\n",
       "9    10.0\n",
       "dtype: float64"
      ]
     },
     "execution_count": 23,
     "metadata": {},
     "output_type": "execute_result"
    }
   ],
   "source": [
    "s.dropna()"
   ]
  },
  {
   "cell_type": "code",
   "execution_count": 26,
   "id": "ca9e7afd",
   "metadata": {},
   "outputs": [
    {
     "data": {
      "text/plain": [
       "0       f\n",
       "1     2.0\n",
       "2       f\n",
       "3     4.0\n",
       "4       f\n",
       "5     6.0\n",
       "6       f\n",
       "7     8.0\n",
       "8       f\n",
       "9    10.0\n",
       "dtype: object"
      ]
     },
     "execution_count": 26,
     "metadata": {},
     "output_type": "execute_result"
    }
   ],
   "source": [
    "s.fillna(\"f\")"
   ]
  },
  {
   "cell_type": "code",
   "execution_count": null,
   "id": "46a1c109",
   "metadata": {},
   "outputs": [],
   "source": []
  }
 ],
 "metadata": {
  "kernelspec": {
   "display_name": "Python 3 (ipykernel)",
   "language": "python",
   "name": "python3"
  },
  "language_info": {
   "codemirror_mode": {
    "name": "ipython",
    "version": 3
   },
   "file_extension": ".py",
   "mimetype": "text/x-python",
   "name": "python",
   "nbconvert_exporter": "python",
   "pygments_lexer": "ipython3",
   "version": "3.11.0"
  }
 },
 "nbformat": 4,
 "nbformat_minor": 5
}
