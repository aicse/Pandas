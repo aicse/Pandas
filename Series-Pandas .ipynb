{
 "cells": [
  {
   "cell_type": "code",
   "execution_count": 3,
   "id": "ef05084d",
   "metadata": {},
   "outputs": [
    {
     "name": "stdout",
     "output_type": "stream",
     "text": [
      "0    a\n",
      "1    b\n",
      "2    c\n",
      "3    e\n",
      "4    s\n",
      "dtype: object\n"
     ]
    }
   ],
   "source": [
    "#importing pandas and numpy alse\n",
    "import pandas as pd\n",
    "import numpy as np\n",
    "\n",
    "first_series =pd.Series(list('abces'))\n",
    "print(first_series)\n"
   ]
  },
  {
   "cell_type": "code",
   "execution_count": 9,
   "id": "eac0f9c7",
   "metadata": {},
   "outputs": [
    {
     "name": "stdout",
     "output_type": "stream",
     "text": [
      "India\n",
      "USA\n",
      "Srilanga\n",
      "China\n",
      "Cuba\n"
     ]
    }
   ],
   "source": [
    "my_country = np.array([\"India\",\"USA\",\"Srilanga\",\"China\",\"Cuba\"])\n",
    "my_country\n",
    "#for i in my_country:\n",
    "    #print(i)"
   ]
  },
  {
   "cell_type": "code",
   "execution_count": 7,
   "id": "74b75e39",
   "metadata": {},
   "outputs": [
    {
     "data": {
      "text/plain": [
       "0       India\n",
       "1         USA\n",
       "2    Srilanga\n",
       "3       China\n",
       "4        Cuba\n",
       "dtype: object"
      ]
     },
     "execution_count": 7,
     "metadata": {},
     "output_type": "execute_result"
    }
   ],
   "source": [
    "country=pd.Series(my_country)\n",
    "(country)"
   ]
  },
  {
   "cell_type": "code",
   "execution_count": null,
   "id": "f1c5dff5",
   "metadata": {},
   "outputs": [],
   "source": [
    "#series can also be a dict data input for faster operation"
   ]
  },
  {
   "cell_type": "code",
   "execution_count": 12,
   "id": "f2d302fa",
   "metadata": {},
   "outputs": [],
   "source": [
    "country_gdp=pd.Series([100.5,99.2,103,345,90],index=[\"India\",\"USA\",\"Srilanga\",\"China\",\"Cuba\"])"
   ]
  },
  {
   "cell_type": "code",
   "execution_count": 13,
   "id": "e60cb956",
   "metadata": {},
   "outputs": [
    {
     "data": {
      "text/plain": [
       "India       100.5\n",
       "USA          99.2\n",
       "Srilanga    103.0\n",
       "China       345.0\n",
       "Cuba         90.0\n",
       "dtype: float64"
      ]
     },
     "execution_count": 13,
     "metadata": {},
     "output_type": "execute_result"
    }
   ],
   "source": [
    "country_gdp"
   ]
  },
  {
   "cell_type": "code",
   "execution_count": 14,
   "id": "99891022",
   "metadata": {},
   "outputs": [],
   "source": [
    "#sclaer value inputs"
   ]
  },
  {
   "cell_type": "code",
   "execution_count": 15,
   "id": "6726d80f",
   "metadata": {},
   "outputs": [
    {
     "data": {
      "text/plain": [
       "a    5.0\n",
       "v    5.0\n",
       "f    5.0\n",
       "g    5.0\n",
       "t    5.0\n",
       "dtype: float64"
      ]
     },
     "execution_count": 15,
     "metadata": {},
     "output_type": "execute_result"
    }
   ],
   "source": [
    "scaler_value=pd.Series(5.,index=[\"a\",'v','f','g','t'])\n",
    "scaler_value"
   ]
  },
  {
   "cell_type": "code",
   "execution_count": 16,
   "id": "383187b8",
   "metadata": {},
   "outputs": [
    {
     "data": {
      "text/plain": [
       "India    100.5\n",
       "USA       99.2\n",
       "dtype: float64"
      ]
     },
     "execution_count": 16,
     "metadata": {},
     "output_type": "execute_result"
    }
   ],
   "source": [
    "country_gdp[0:2]"
   ]
  },
  {
   "cell_type": "code",
   "execution_count": 17,
   "id": "dfa95a81",
   "metadata": {},
   "outputs": [
    {
     "data": {
      "text/plain": [
       "103.0"
      ]
     },
     "execution_count": 17,
     "metadata": {},
     "output_type": "execute_result"
    }
   ],
   "source": [
    "country_gdp.iloc[2]"
   ]
  },
  {
   "cell_type": "code",
   "execution_count": 21,
   "id": "c956522a",
   "metadata": {},
   "outputs": [
    {
     "data": {
      "text/plain": [
       "90.0"
      ]
     },
     "execution_count": 21,
     "metadata": {},
     "output_type": "execute_result"
    }
   ],
   "source": [
    "country_gdp.loc[\"Cuba\"]"
   ]
  },
  {
   "cell_type": "code",
   "execution_count": null,
   "id": "692f0478",
   "metadata": {},
   "outputs": [],
   "source": []
  }
 ],
 "metadata": {
  "kernelspec": {
   "display_name": "Python 3 (ipykernel)",
   "language": "python",
   "name": "python3"
  },
  "language_info": {
   "codemirror_mode": {
    "name": "ipython",
    "version": 3
   },
   "file_extension": ".py",
   "mimetype": "text/x-python",
   "name": "python",
   "nbconvert_exporter": "python",
   "pygments_lexer": "ipython3",
   "version": "3.11.0"
  }
 },
 "nbformat": 4,
 "nbformat_minor": 5
}
